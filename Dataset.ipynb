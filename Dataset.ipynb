{
  "nbformat": 4,
  "nbformat_minor": 0,
  "metadata": {
    "colab": {
      "provenance": [],
      "authorship_tag": "ABX9TyPJbbyfYJ0+KfPXOoHHNQJ0",
      "include_colab_link": true
    },
    "kernelspec": {
      "name": "python3",
      "display_name": "Python 3"
    },
    "language_info": {
      "name": "python"
    }
  },
  "cells": [
    {
      "cell_type": "markdown",
      "metadata": {
        "id": "view-in-github",
        "colab_type": "text"
      },
      "source": [
        "<a href=\"https://colab.research.google.com/github/BlueBerry-Coder/Practice/blob/main/Dataset.ipynb\" target=\"_parent\"><img src=\"https://colab.research.google.com/assets/colab-badge.svg\" alt=\"Open In Colab\"/></a>"
      ]
    },
    {
      "cell_type": "code",
      "execution_count": null,
      "metadata": {
        "id": "fs8hW1Z4L00m"
      },
      "outputs": [],
      "source": [
        "import os\n",
        "import numpy as np\n",
        "import matplotlib.pylab as plt\n",
        "import pydicom as dicom\n",
        "import nibabel as nib\n",
        "from PIL import Image\n",
        "from glob import glob\n",
        "from torch.utils.data import Dataset\n",
        "from sklearn.preprocessing import MinMaxScaler\n",
        "from skimage.transform import rotate"
      ]
    },
    {
      "cell_type": "code",
      "source": [
        "# Training Data,\n",
        "      #t1-исходные, t1ce-постконтрастные взвешенные, t2-взвешенные, flair-с подавленной инверсией восстановлением жидкости, seg-сегментированные\n",
        "      #path = '../input/brats20-dataset-training-validation/BraTS2020_TrainingData/MICCAI_BraTS2020_TrainingData/BraTS20_Training_001/BraTS20_Training_001_t1.nii'\n",
        "\n",
        "# Validation Data\n",
        "      #t1-исходные, t1ce-постконтрастные взвешенные, t2-взвешенные, flair-с подавленной инверсией восстановлением жидкости\n",
        "      #path = '../input/brats20-dataset-training-validation/BraTS2020_TrainingData/MICCAI_BraTS2020_ValidationData/BraTS20_Validation_001/BraTS20_Validation_001_t1.nii'"
      ],
      "metadata": {
        "id": "ma-XSpJqL4r8"
      },
      "execution_count": null,
      "outputs": []
    },
    {
      "cell_type": "code",
      "source": [
        "root_dir = '../input/brats20-dataset-training-validation/BraTS2020_TrainingData/MICCAI_BraTS2020_TrainingData'\n",
        "\n",
        "class BratsDataset(Dataset):\n",
        "    def __init__(self, train_img_dir, train_mask_dir, transform=None):\n",
        "        self.train_img_dir = train_t1_dir\n",
        "        self.train_mask_dir = train_mask_dir\n",
        "        self.transform = transform\n",
        "        self.images = os.listdir(train_t1_dir)\n",
        "\n",
        "    def __len__(self):\n",
        "        return len(self.images)\n",
        "\n",
        "    def __getitem__(self, index):\n",
        "        img_path = os.path.join(self.train_t1_dir, self.images[index])\n",
        "        mask_path = os.path.join(self.train_mask_dir, self.images[index].replace(\".jpg\", \"_mask.gif\"))\n",
        "        image = np.array(Image.open(img_path).convert(\"RGB\"))\n",
        "        mask = np.array(Image.open(mask_path).convert(\"L\"), dtype=np.float32)\n",
        "        mask[mask == 255.0] = 1.0\n",
        "\n",
        "        if self.transform is not None:\n",
        "            augmentations = self.transform(image=image, mask=mask)\n",
        "            image = augmentations[\"image\"]\n",
        "            mask = augmentations[\"mask\"]\n",
        "\n",
        "        return image, mask"
      ],
      "metadata": {
        "id": "b2ME7Zu_L4qC"
      },
      "execution_count": null,
      "outputs": []
    },
    {
      "cell_type": "code",
      "source": [
        "root_dir = '../input/brats20-dataset-training-validation/BraTS2020_TrainingData/MICCAI_BraTS2020_TrainingData'\n",
        "\n",
        "class BratsDataset(Dataset):\n",
        "    def __init__(self, root_dir, transforms=None):\n",
        "        self.root_dir = root_dir\n",
        "        self.researchs_dir = [os.path.join(root_dir, p) for p in os.listdir(root_dir)]\n",
        "        self.check_files = [\"flair.nii\", \"t1.nii\", \"t1ce.nii\", \"t2.nii\", \"seg.nii\"]\n",
        "        self.check_researchs()\n",
        "        self.transform = transforms\n",
        "        self.mask_labels = [1.0, 2.0, 4.0]\n",
        "\n",
        "    def check_researchs(self):\n",
        "        for dir in self.researchs_dir:\n",
        "            for f in self.check_files:\n",
        "                file_endings = [pth.split('_')[-1] for pth in os.listdir(dir)]\n",
        "                if f not in file_endings:\n",
        "                    print(f\"In research {dir} no file with {f} ending.\")\n",
        "\n",
        "    def __len__(self):\n",
        "        return len(self.researchs_dir)\n",
        "\n",
        "    def __getitem__(self, index):\n",
        "        flair_path = os.path.join(self.researchs_dir[index], self.researchs_dir[index].split(\"\\\\\")[-1]) + \"_flair.nii\"\n",
        "        t1_path = os.path.join(self.researchs_dir[index], self.researchs_dir[index].split(\"\\\\\")[-1]) + \"_t1.nii\"\n",
        "        t1ce_path = os.path.join(self.researchs_dir[index], self.researchs_dir[index].split(\"\\\\\")[-1]) + \"_t1ce.nii\"\n",
        "        t2_path = os.path.join(self.researchs_dir[index], self.researchs_dir[index].split(\"\\\\\")[-1]) + \"_t2.nii\"\n",
        "        mask_path = os.path.join(self.researchs_dir[index], self.researchs_dir[index].split(\"\\\\\")[-1]) + \"_seg.nii\"\n",
        "        flair = self.normalize(np.expand_dims(np.asarray(nib.load(flair_path).dataobj), -1))\n",
        "        t1 = self.normalize(np.expand_dims(np.asarray(nib.load(t1_path).dataobj), -1))\n",
        "        t1ce = self.normalize(np.expand_dims(np.asarray(nib.load(t1ce_path).dataobj), -1))\n",
        "        t2 = self.normalize(np.expand_dims(np.asarray(nib.load(t2_path).dataobj), -1))\n",
        "        mask_data = np.asarray(nib.load(mask_path).dataobj)\n",
        "\n",
        "        mask = np.concatenate([np.expand_dims(mask_data == label, -1).astype(np.float32) for label in self.mask_labels], axis=-1)\n",
        "        research_data = np.concatenate((flair, t1, t1ce, t2), axis=3)\n",
        "\n",
        "        if self.transform is not None:\n",
        "            augmentations = self.transform(image=research_data, mask=mask)\n",
        "            research_data = augmentations[\"image\"]\n",
        "            mask = augmentations[\"mask\"]\n",
        "\n",
        "        return research_data, mask\n",
        "\n",
        "    def normalize(self, data: np.ndarray):\n",
        "        data_min = np.min(data)\n",
        "        return (data - data_min) / (np.max(data) - data_min)\n",
        "\n",
        "    def plot_example(self, index, n=7, slices=10):\n",
        "        research_data, mask = self.__getitem__(index)\n",
        "\n",
        "        plt.style.use('default')\n",
        "        fig, axes = plt.subplots(n, slices, figsize=(20, 20))\n",
        "        step = len(axes.reshape(-1)) // n\n",
        "        for i, ax in enumerate(axes.reshape(-1)):\n",
        "            if i < step:\n",
        "                ax.imshow(research_data[:, :, 1 + (research_data.shape[2] // slices) * (i % slices), 0])\n",
        "            elif i < 2 * step:\n",
        "                ax.imshow(research_data[:, :, 1 + (research_data.shape[2] // slices) * (i % slices), 1])\n",
        "            elif i < 3 * step:\n",
        "                ax.imshow(research_data[:, :, 1 + (research_data.shape[2] // slices) * (i % slices), 2])\n",
        "            elif i < 4 * step:\n",
        "                ax.imshow(research_data[:, :, 1 + (research_data.shape[2] // slices) * (i % slices), 3])\n",
        "            elif i < 5 * step:\n",
        "                ax.imshow(mask[:, :, 1 + (mask.shape[2] // slices) * (i % slices), 0])\n",
        "            elif i < 6 * step:\n",
        "                ax.imshow(mask[:, :, 1 + (mask.shape[2] // slices) * (i % slices), 1])\n",
        "            else:\n",
        "                ax.imshow(mask[:, :, 1 + (mask.shape[2] // slices) * (i % slices), 2])\n",
        "        plt.show()"
      ],
      "metadata": {
        "id": "RztMu7-tL4ns"
      },
      "execution_count": null,
      "outputs": []
    },
    {
      "cell_type": "code",
      "source": [
        "if __name__ == \"__main__\":\n",
        "    d = BratsDataset(r\"../input/brats20-dataset-training-validation/BraTS2020_TrainingData/MICCAI_BraTS2020_TrainingData\")\n",
        "    d.__getitem__(10)\n",
        "    d.plot_example(10, slices=10)\n",
        "    from volumentations import Compose, Rotate, RandomCrop, Normalize\n",
        "\n",
        "    transforms = Compose([\n",
        "        Rotate((-30, 30), (-30, 30), (-30, 30), p=1.0),\n",
        "        RandomCrop((128, 128, 128), p=1.0),\n",
        "        # Normalize()\n",
        "    ]\n",
        "    )\n",
        "\n",
        "    d = BratsDataset(r\"../input/brats20-dataset-training-validation/BraTS2020_TrainingData/MICCAI_BraTS2020_TrainingData\", transforms=transforms)\n",
        "    d.__getitem__(10)\n",
        "    d.plot_example(10, slices=10)"
      ],
      "metadata": {
        "id": "7cyH-aziL4lf"
      },
      "execution_count": null,
      "outputs": []
    }
  ]
}