{
  "nbformat": 4,
  "nbformat_minor": 0,
  "metadata": {
    "colab": {
      "provenance": [],
      "authorship_tag": "ABX9TyP/HM0wp98j9unH/Oe4jUns",
      "include_colab_link": true
    },
    "kernelspec": {
      "name": "python3",
      "display_name": "Python 3"
    },
    "language_info": {
      "name": "python"
    }
  },
  "cells": [
    {
      "cell_type": "markdown",
      "metadata": {
        "id": "view-in-github",
        "colab_type": "text"
      },
      "source": [
        "<a href=\"https://colab.research.google.com/github/BlueBerry-Coder/Practice/blob/main/Train.ipynb\" target=\"_parent\"><img src=\"https://colab.research.google.com/assets/colab-badge.svg\" alt=\"Open In Colab\"/></a>"
      ]
    },
    {
      "cell_type": "code",
      "execution_count": null,
      "metadata": {
        "id": "WECx2Mr4vzbE"
      },
      "outputs": [],
      "source": [
        "import torch\n",
        "from volumentations import Compose, Rotate, RandomCrop, Transpose\n",
        "from tqdm import tqdm\n",
        "import torch.nn as nn\n",
        "import torch.optim as optim\n",
        "from model import UNET3D\n",
        "from loss import BCEDiceLoss"
      ]
    },
    {
      "cell_type": "code",
      "source": [
        "from utils import (\n",
        "    load_checkpoint,\n",
        "    save_checkpoint,\n",
        "    get_loaders,\n",
        "    check_accuracy,\n",
        "    save_predictions_as_images,\n",
        ")\n",
        "\n",
        "LEARNING_RATE = 1e-3\n",
        "DEVICE = \"cuda\" if torch.cuda.is_available() else \"cpu\"\n",
        "BATCH_SIZE = 1\n",
        "NUM_EPOCHS = 10\n",
        "NUM_WORKERS = 6\n",
        "IMAGE_DEPTH = 128\n",
        "IMAGE_HEIGHT = 128\n",
        "IMAGE_WIDTH = 128\n",
        "FEATURES = [32, 64, 128, 256]\n",
        "PIN_MEMORY = True\n",
        "LOAD_MODEL = False\n",
        "TRAIN_IMG_DIR = r\"D:/PyCode/Project/data/BraTS2020_TrainingData/MICCAI_BraTS2020_TrainingData\"\n",
        "VAL_IMG_DIR = r\"D:/PyCode/Project/data/BraTS2020_ValidationData/MICCAI_BraTS2020_ValidationDataну \""
      ],
      "metadata": {
        "id": "qKHKwtY3v3ST"
      },
      "execution_count": null,
      "outputs": []
    },
    {
      "cell_type": "code",
      "source": [
        "def train_fn(loader, model, optimizer, loss_fn, scaler):\n",
        "    loop = tqdm(loader)\n",
        "\n",
        "    for batch_idx, (data, targets) in enumerate(loop):\n",
        "        data = data.to(device=DEVICE)\n",
        "        #print(data.shape, targets.shape)\n",
        "        targets = targets.float().to(device=DEVICE)\n",
        "\n",
        "        # forward\n",
        "        with torch.cuda.amp.autocast():\n",
        "            predictions = model(data)\n",
        "            loss = loss_fn(predictions, targets)\n",
        "\n",
        "        # backward\n",
        "        optimizer.zero_grad()\n",
        "        scaler.scale(loss).backward()\n",
        "        scaler.step(optimizer)\n",
        "        scaler.update()\n",
        "\n",
        "        loop.set_postfix(loss=loss.item())\n",
        "\n",
        "def main():\n",
        "    train_transform = Compose([\n",
        "        Rotate((-30, 30), (-30, 30), (-30, 30), p=1.0),\n",
        "        RandomCrop((128, 128, 128), p=1.0),\n",
        "        Transpose(axes=(3,0,1,2), always_apply=True)\n",
        "        ]\n",
        "    )\n",
        "\n",
        "    val_transform = transforms = Compose([\n",
        "        RandomCrop((128, 128, 128), p=1.0),\n",
        "        Transpose(axes=(3,0,1,2), always_apply=True)\n",
        "        ]\n",
        "    )\n",
        "\n",
        "    model = UNET3D(in_channels=4, out_channels=3, features=FEATURES).to(DEVICE) #\n",
        "    loss_fn = BCEDiceLoss() #nn.BCEWithLogitsLoss()\n",
        "    optimizer = optim.Adam(model.parameters(), lr=LEARNING_RATE)\n",
        "\n",
        "    train_loader, val_loader = get_loaders(\n",
        "        TRAIN_IMG_DIR,\n",
        "        VAL_IMG_DIR,\n",
        "        BATCH_SIZE,\n",
        "        train_transform,\n",
        "        val_transform\n",
        "    )\n",
        "\n",
        "    if LOAD_MODEL:\n",
        "        load_checkpoint(torch.load(\"my_checkpoint.pth.tar\"), model)\n",
        "\n",
        "    scaler = torch.cuda.amp.GradScaler()\n",
        "\n",
        "    for epoch in range(NUM_EPOCHS):\n",
        "        train_fn(train_loader, model, optimizer, loss_fn, scaler)\n",
        "\n",
        "        checkpoint = {\n",
        "            \"state_dict\": model.state_dict(),\n",
        "            \"optimizer\": optimizer.state_dict(),\\\n",
        "        }\n",
        "        save_checkpoint(checkpoint)\n",
        "\n",
        "        check_accuracy(val_loader, model, device=DEVICE)\n",
        "\n",
        "        # save_predictions_as_images(\n",
        "        #     val_loader, model, folder=\"saved_images/\", device=DEVICE\n",
        "        # )"
      ],
      "metadata": {
        "id": "jt3cCtmas050"
      },
      "execution_count": null,
      "outputs": []
    },
    {
      "cell_type": "code",
      "source": [
        "if __name__ == \"__main__\":\n",
        "    main()"
      ],
      "metadata": {
        "id": "MHwZw1letD7q"
      },
      "execution_count": null,
      "outputs": []
    }
  ]
}