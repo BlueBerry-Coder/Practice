{
  "nbformat": 4,
  "nbformat_minor": 0,
  "metadata": {
    "colab": {
      "provenance": [],
      "authorship_tag": "ABX9TyMZetnuhLc4Sqyb81ENGIrR",
      "include_colab_link": true
    },
    "kernelspec": {
      "name": "python3",
      "display_name": "Python 3"
    },
    "language_info": {
      "name": "python"
    }
  },
  "cells": [
    {
      "cell_type": "markdown",
      "metadata": {
        "id": "view-in-github",
        "colab_type": "text"
      },
      "source": [
        "<a href=\"https://colab.research.google.com/github/BlueBerry-Coder/Practice/blob/main/dataset.ipynb\" target=\"_parent\"><img src=\"https://colab.research.google.com/assets/colab-badge.svg\" alt=\"Open In Colab\"/></a>"
      ]
    },
    {
      "cell_type": "code",
      "execution_count": null,
      "metadata": {
        "id": "xJr0tAFgo-Zf"
      },
      "outputs": [],
      "source": [
        "import os\n",
        "from PIL import Image\n",
        "from torch.utils.data import Dataset\n",
        "import numpy as np\n",
        "from glob import glob\n",
        "import matplotlib.pylab as plt\n",
        "import pydicom as dicom\n",
        "import nibabel as nib\n",
        "from sklearn.preprocessing import MinMaxScaler\n",
        "from skimage.transform import rotate"
      ]
    },
    {
      "cell_type": "code",
      "source": [
        "TRAINING_DATA_PATH = '../input/brats20-dataset-training-validation/BraTS2020_TrainingData/MICCAI_BraTS2020_TrainingData/'\n",
        "VALIDATION_DATA_PATH = '../input/brats20-dataset-training-validation/BraTS2020_ValidationData/MICCAI_BraTS2020_ValidationData'\n",
        "\n",
        "    # Training Data,\n",
        "        #t1-исходные, t1ce-постконтрастные взвешенные, t2-взвешенные, flair-с подавленной инверсией восстановлением жидкости, seg-сегментированные\n",
        "\n",
        "flair_image_dir = nib.load(TRAINING_DATA_PATH + 'BraTS20_Training_003/BraTS20_Training_003_flair.nii').get_fdata()\n",
        "mask_dir = nib.load(TRAINING_DATA_PATH + 'BraTS20_Training_003/BraTS20_Training_003_seg.nii').get_fdata()\n",
        "t1_image_dir = nib.load(TRAINING_DATA_PATH + 'BraTS20_Training_003/BraTS20_Training_003_t1.nii').get_fdata()\n",
        "t1ce_image_dir = nib.load(TRAINING_DATA_PATH + 'BraTS20_Training_003/BraTS20_Training_003_t1ce.nii').get_fdata()\n",
        "t2_image_dir = nib.load(TRAINING_DATA_PATH + 'BraTS20_Training_003/BraTS20_Training_003_t2.nii').get_fdata()\n",
        "\n",
        "# path = 'D:/PyCode/Project/data/BraTS2020_TrainingData/MICCAI_BraTS2020_TrainingData/BraTS20_Training_001/BraTS20_Training_001_t2.nii'\n",
        "\n",
        "    # Validation Data\n",
        "        #t1-исходные, t1ce-постконтрастные взвешенные, t2-взвешенные, flair-с подавленной инверсией восстановлением жидкости\n",
        "\n",
        "# path = 'D:/PyCode/Project/data/BraTS2020_ValidationData/MICCAI_BraTS2020_ValidationData/BraTS20_Validation_001/BraTS20_Validation_001_flair.nii'\n",
        "# path = 'D:/PyCode/Project/data/BraTS2020_ValidationData/MICCAI_BraTS2020_ValidationData/BraTS20_Validation_001/BraTS20_Validation_001_t1.nii'\n",
        "# path = 'D:/PyCode/Project/data/BraTS2020_ValidationData/MICCAI_BraTS2020_ValidationData/BraTS20_Validation_001/BraTS20_Validation_001_t1ce.nii'\n",
        "# path = 'D:/PyCode/Project/data/BraTS2020_ValidationData/MICCAI_BraTS2020_ValidationData/BraTS20_Validation_001/BraTS20_Validation_001_t2.nii'"
      ],
      "metadata": {
        "id": "lrAY9wtkpCiS"
      },
      "execution_count": null,
      "outputs": []
    },
    {
      "cell_type": "code",
      "source": [
        "class BratsDataset(Dataset):\n",
        "    def __init__(self, t1_image_dir, mask_dir, transform=None):\n",
        "        self.t1_image_dir = t1_image_dir\n",
        "        self.mask_dir = mask_dir\n",
        "        self.transform = transform\n",
        "        self.images = os.listdir(t1_image_dir)\n",
        "\n",
        "    def __len__(self):\n",
        "        return len(self.images)\n",
        "\n",
        "    def __getitem__(self, index):\n",
        "        img_path = os.path.join(self.t1_image_dir, self.images[index])\n",
        "        mask_path = os.path.join(self.mask_dir, self.images[index].replace(\".jpg\", \"_mask.gif\"))\n",
        "        image = np.array(Image.open(img_path).convert(\"RGB\"))\n",
        "        mask = np.array(Image.open(mask_path).convert(\"L\"), dtype=np.float32)\n",
        "        mask[mask == 255.0] = 1.0\n",
        "\n",
        "        if self.transform is not None:\n",
        "            augmentations = self.transform(image=image, mask=mask)\n",
        "            image = augmentations[\"image\"]\n",
        "            mask = augmentations[\"mask\"]\n",
        "\n",
        "        return image, mask"
      ],
      "metadata": {
        "id": "sBrXrrLgpCf9"
      },
      "execution_count": null,
      "outputs": []
    }
  ]
}